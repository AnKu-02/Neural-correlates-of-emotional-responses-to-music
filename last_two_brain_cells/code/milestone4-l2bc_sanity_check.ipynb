{
 "cells": [
  {
   "cell_type": "markdown",
   "metadata": {},
   "source": [
    "This script performs a sanity check on the data by comparing the no music run psd on the music run run psd. A t-test is performed and the corresponding p value is used to check if the null hypothesis can be rejected."
   ]
  },
  {
   "cell_type": "code",
   "execution_count": 6,
   "metadata": {},
   "outputs": [],
   "source": [
    "import mne\n",
    "mne.set_config('MNE_BROWSER_BACKEND', 'matplotlib') # To plot in the notebook using matplotlib\n",
    "import sys\n",
    "sys.path.insert(0, '.')\n",
    "import ccs_eeg_utils\n",
    "\n",
    "import matplotlib.pyplot as plt\n",
    "\n",
    "from mne_bids import BIDSPath, read_raw_bids\n",
    "\n",
    "import numpy as np\n",
    "\n",
    "%matplotlib inline"
   ]
  },
  {
   "cell_type": "code",
   "execution_count": 7,
   "metadata": {},
   "outputs": [],
   "source": [
    "filtered_output_root = \"/home/fsociety/Documents/Datasets/project-output\"\n",
    "start_sub = 1\n",
    "end_sub = 31\n",
    "subjects = [f\"{i:02d}\" for i in range(start_sub, end_sub+1)]\n",
    "\n",
    "no_music_runs = ['run1', 'run6']\n",
    "music_runs = ['run2', 'run3', 'run4', 'run5']"
   ]
  },
  {
   "cell_type": "code",
   "execution_count": 8,
   "metadata": {},
   "outputs": [
    {
     "name": "stdout",
     "output_type": "stream",
     "text": [
      "Effective window size : 10.240 (s)\n"
     ]
    },
    {
     "name": "stdout",
     "output_type": "stream",
     "text": [
      "Effective window size : 10.240 (s)\n",
      "Effective window size : 10.240 (s)\n",
      "Effective window size : 10.240 (s)\n",
      "Effective window size : 10.240 (s)\n",
      "Effective window size : 10.240 (s)\n",
      "Effective window size : 10.240 (s)\n",
      "Effective window size : 10.240 (s)\n",
      "Effective window size : 10.240 (s)\n",
      "Effective window size : 10.240 (s)\n",
      "Effective window size : 10.240 (s)\n",
      "Effective window size : 10.240 (s)\n",
      "Effective window size : 10.240 (s)\n",
      "Effective window size : 10.240 (s)\n",
      "Effective window size : 10.240 (s)\n",
      "Effective window size : 10.240 (s)\n",
      "Effective window size : 10.240 (s)\n",
      "Effective window size : 10.240 (s)\n",
      "Effective window size : 10.240 (s)\n",
      "Effective window size : 10.240 (s)\n",
      "Effective window size : 10.240 (s)\n",
      "Effective window size : 10.240 (s)\n",
      "Effective window size : 10.240 (s)\n",
      "Effective window size : 10.240 (s)\n",
      "Effective window size : 10.240 (s)\n",
      "Effective window size : 10.240 (s)\n",
      "Effective window size : 10.240 (s)\n",
      "Effective window size : 10.240 (s)\n",
      "Effective window size : 10.240 (s)\n",
      "Effective window size : 10.240 (s)\n",
      "Effective window size : 10.240 (s)\n",
      "Effective window size : 10.240 (s)\n",
      "Effective window size : 10.240 (s)\n",
      "Effective window size : 10.240 (s)\n",
      "Effective window size : 10.240 (s)\n",
      "Effective window size : 10.240 (s)\n",
      "Effective window size : 10.240 (s)\n",
      "Effective window size : 10.240 (s)\n",
      "Effective window size : 10.240 (s)\n",
      "Effective window size : 10.240 (s)\n",
      "Effective window size : 10.240 (s)\n",
      "Effective window size : 10.240 (s)\n",
      "Effective window size : 10.240 (s)\n",
      "Effective window size : 10.240 (s)\n",
      "Effective window size : 10.240 (s)\n",
      "Effective window size : 10.240 (s)\n",
      "Effective window size : 10.240 (s)\n",
      "Effective window size : 10.240 (s)\n",
      "Effective window size : 10.240 (s)\n",
      "Effective window size : 10.240 (s)\n",
      "Effective window size : 10.240 (s)\n",
      "Effective window size : 10.240 (s)\n",
      "Effective window size : 10.240 (s)\n",
      "Effective window size : 10.240 (s)\n",
      "Effective window size : 10.240 (s)\n",
      "Effective window size : 10.240 (s)\n",
      "Effective window size : 10.240 (s)\n",
      "Effective window size : 10.240 (s)\n",
      "Effective window size : 10.240 (s)\n",
      "Effective window size : 10.240 (s)\n",
      "Effective window size : 10.240 (s)\n",
      "Effective window size : 10.240 (s)\n",
      "Effective window size : 10.240 (s)\n",
      "Effective window size : 10.240 (s)\n",
      "Effective window size : 10.240 (s)\n",
      "Effective window size : 10.240 (s)\n",
      "Effective window size : 10.240 (s)\n",
      "Effective window size : 10.240 (s)\n",
      "Effective window size : 10.240 (s)\n",
      "Effective window size : 10.240 (s)\n",
      "Effective window size : 10.240 (s)\n",
      "Effective window size : 10.240 (s)\n",
      "Effective window size : 10.240 (s)\n",
      "Effective window size : 10.240 (s)\n",
      "Effective window size : 10.240 (s)\n",
      "Effective window size : 10.240 (s)\n",
      "Effective window size : 10.240 (s)\n",
      "Effective window size : 10.240 (s)\n",
      "Effective window size : 10.240 (s)\n",
      "Effective window size : 10.240 (s)\n",
      "Effective window size : 10.240 (s)\n",
      "Effective window size : 10.240 (s)\n",
      "Effective window size : 10.240 (s)\n",
      "Effective window size : 10.240 (s)\n",
      "Effective window size : 10.240 (s)\n",
      "Effective window size : 10.240 (s)\n",
      "Effective window size : 10.240 (s)\n",
      "Effective window size : 10.240 (s)\n",
      "Effective window size : 10.240 (s)\n",
      "Effective window size : 10.240 (s)\n",
      "Effective window size : 10.240 (s)\n",
      "Effective window size : 10.240 (s)\n",
      "Effective window size : 10.240 (s)\n",
      "Effective window size : 10.240 (s)\n",
      "Effective window size : 10.240 (s)\n",
      "Effective window size : 10.240 (s)\n",
      "Effective window size : 10.240 (s)\n",
      "Effective window size : 10.240 (s)\n",
      "Effective window size : 10.240 (s)\n",
      "Effective window size : 10.240 (s)\n",
      "Effective window size : 10.240 (s)\n",
      "Effective window size : 10.240 (s)\n",
      "Effective window size : 10.240 (s)\n",
      "Effective window size : 10.240 (s)\n",
      "Effective window size : 10.240 (s)\n",
      "Effective window size : 10.240 (s)\n",
      "Effective window size : 10.240 (s)\n",
      "Effective window size : 10.240 (s)\n",
      "Effective window size : 10.240 (s)\n",
      "Effective window size : 10.240 (s)\n",
      "Effective window size : 10.240 (s)\n",
      "Effective window size : 10.240 (s)\n",
      "Effective window size : 10.240 (s)\n",
      "Effective window size : 10.240 (s)\n",
      "Effective window size : 10.240 (s)\n",
      "Effective window size : 10.240 (s)\n",
      "Effective window size : 10.240 (s)\n",
      "Effective window size : 10.240 (s)\n",
      "Effective window size : 10.240 (s)\n",
      "Effective window size : 10.240 (s)\n",
      "Effective window size : 10.240 (s)\n",
      "Effective window size : 10.240 (s)\n",
      "Effective window size : 10.240 (s)\n",
      "Effective window size : 10.240 (s)\n"
     ]
    }
   ],
   "source": [
    "wet_list = []\n",
    "for subject in subjects:\n",
    "    for run in music_runs:\n",
    "        try:\n",
    "            bids_path = BIDSPath(subject=subject,task=run,\n",
    "                                    datatype='eeg', suffix='eeg',\n",
    "                                    root=filtered_output_root)\n",
    "                        \n",
    "            # read the file\n",
    "            raw = read_raw_bids(bids_path, verbose=False)\n",
    "            # fix the annotations readin\n",
    "            ccs_eeg_utils.read_annotations_core(bids_path,raw)\n",
    "            raw.load_data(verbose=False)\n",
    "            raw.set_eeg_reference(\"average\", verbose=False)\n",
    "            raw.set_montage('standard_1020',match_case=False)\n",
    "            \n",
    "            psd = raw.compute_psd()\n",
    "            mean_psd = np.mean(psd.get_data(), axis=0)\n",
    "            wet_list.append(mean_psd)\n",
    "        except Exception as e:\n",
    "            print(\"Subject {} Run {} failed\".format(subject, run))\n",
    "            print(e)"
   ]
  },
  {
   "cell_type": "code",
   "execution_count": 9,
   "metadata": {},
   "outputs": [],
   "source": [
    "# raw.compute_psd().plot()\n",
    "wet_psd = np.mean(wet_list, axis=0)"
   ]
  },
  {
   "cell_type": "code",
   "execution_count": 10,
   "metadata": {},
   "outputs": [
    {
     "name": "stdout",
     "output_type": "stream",
     "text": [
      "Effective window size : 10.240 (s)\n",
      "Effective window size : 10.240 (s)\n"
     ]
    },
    {
     "name": "stdout",
     "output_type": "stream",
     "text": [
      "Effective window size : 10.240 (s)\n",
      "Effective window size : 10.240 (s)\n",
      "Effective window size : 10.240 (s)\n",
      "Effective window size : 10.240 (s)\n",
      "Effective window size : 10.240 (s)\n",
      "Effective window size : 10.240 (s)\n",
      "Effective window size : 10.240 (s)\n",
      "Effective window size : 10.240 (s)\n",
      "Effective window size : 10.240 (s)\n",
      "Subject 06 Run run6 failed\n",
      "File does not exist:\n",
      "/home/fsociety/Documents/Datasets/project-output/sub-06/eeg/sub-06_task-run6_eeg\n",
      "Did you mean one of:\n",
      "sub-06_task-run5_eeg.edf\n",
      "sub-06_task-run4_eeg.edf\n",
      "sub-06_task-run3_eeg.edf\n",
      "instead of:\n",
      "sub-06_task-run6_eeg\n",
      "Effective window size : 10.240 (s)\n",
      "Effective window size : 10.240 (s)\n",
      "Effective window size : 10.240 (s)\n",
      "Effective window size : 10.240 (s)\n",
      "Effective window size : 10.240 (s)\n",
      "Effective window size : 10.240 (s)\n",
      "Effective window size : 10.240 (s)\n",
      "Effective window size : 10.240 (s)\n",
      "Effective window size : 10.240 (s)\n",
      "Effective window size : 10.240 (s)\n",
      "Effective window size : 10.240 (s)\n",
      "Subject 12 Run run6 failed\n",
      "File does not exist:\n",
      "/home/fsociety/Documents/Datasets/project-output/sub-12/eeg/sub-12_task-run6_eeg\n",
      "Did you mean one of:\n",
      "sub-12_task-run5_eeg.edf\n",
      "sub-12_task-run4_eeg.edf\n",
      "sub-12_task-run3_eeg.edf\n",
      "instead of:\n",
      "sub-12_task-run6_eeg\n",
      "Effective window size : 10.240 (s)\n",
      "Effective window size : 10.240 (s)\n",
      "Effective window size : 10.240 (s)\n",
      "Effective window size : 10.240 (s)\n",
      "Effective window size : 10.240 (s)\n",
      "Effective window size : 10.240 (s)\n",
      "Effective window size : 10.240 (s)\n",
      "Effective window size : 10.240 (s)\n",
      "Effective window size : 10.240 (s)\n",
      "Effective window size : 10.240 (s)\n",
      "Effective window size : 10.240 (s)\n",
      "Effective window size : 10.240 (s)\n",
      "Effective window size : 10.240 (s)\n",
      "Effective window size : 10.240 (s)\n",
      "Effective window size : 10.240 (s)\n",
      "Effective window size : 10.240 (s)\n",
      "Effective window size : 10.240 (s)\n",
      "Effective window size : 10.240 (s)\n",
      "Effective window size : 10.240 (s)\n",
      "Effective window size : 10.240 (s)\n",
      "Effective window size : 10.240 (s)\n",
      "Effective window size : 10.240 (s)\n",
      "Effective window size : 10.240 (s)\n",
      "Effective window size : 10.240 (s)\n",
      "Effective window size : 10.240 (s)\n",
      "Effective window size : 10.240 (s)\n",
      "Effective window size : 10.240 (s)\n",
      "Effective window size : 10.240 (s)\n",
      "Effective window size : 10.240 (s)\n",
      "Effective window size : 10.240 (s)\n",
      "Effective window size : 10.240 (s)\n",
      "Effective window size : 10.240 (s)\n",
      "Effective window size : 10.240 (s)\n",
      "Effective window size : 10.240 (s)\n",
      "Effective window size : 10.240 (s)\n",
      "Effective window size : 10.240 (s)\n",
      "Effective window size : 10.240 (s)\n",
      "Effective window size : 10.240 (s)\n"
     ]
    }
   ],
   "source": [
    "dry_list = []\n",
    "for subject in subjects:\n",
    "    for run in no_music_runs:\n",
    "        try:\n",
    "            bids_path = BIDSPath(subject=subject,task=run,\n",
    "                                    datatype='eeg', suffix='eeg',\n",
    "                                    root=filtered_output_root)\n",
    "                        \n",
    "            # read the file\n",
    "            raw = read_raw_bids(bids_path, verbose=False)\n",
    "            # fix the annotations readin\n",
    "            ccs_eeg_utils.read_annotations_core(bids_path,raw)\n",
    "            raw.load_data(verbose=False)\n",
    "            raw.set_eeg_reference(\"average\", verbose=False)\n",
    "            raw.set_montage('standard_1020',match_case=False)\n",
    "            \n",
    "            psd = raw.compute_psd()\n",
    "            mean_psd = np.mean(psd.get_data(), axis=0)\n",
    "            dry_list.append(mean_psd)\n",
    "        except Exception as e:\n",
    "            print(\"Subject {} Run {} failed\".format(subject, run))\n",
    "            print(e)"
   ]
  },
  {
   "cell_type": "code",
   "execution_count": 11,
   "metadata": {},
   "outputs": [],
   "source": [
    "dry_psd = np.mean(dry_list, axis=0)"
   ]
  },
  {
   "cell_type": "code",
   "execution_count": 12,
   "metadata": {},
   "outputs": [
    {
     "data": {
      "image/png": "[encoded data removed]",
      "text/plain": [
       "<Figure size 640x480 with 1 Axes>"
      ]
     },
     "metadata": {},
     "output_type": "display_data"
    }
   ],
   "source": [
    "plt.plot(psd.freqs, wet_psd)\n",
    "plt.plot(psd.freqs, dry_psd)\n",
    "plt.legend(['with music', 'without music'])\n",
    "plt.semilogy()\n",
    "plt.show()"
   ]
  },
  {
   "cell_type": "code",
   "execution_count": 13,
   "metadata": {},
   "outputs": [
    {
     "name": "stdout",
     "output_type": "stream",
     "text": [
      "TtestResult(statistic=-2.8037194315888563, pvalue=0.005099303057512087, df=2048.0)\n",
      "Reject null hypothesis\n"
     ]
    }
   ],
   "source": [
    "from scipy.stats import ttest_ind\n",
    "print(ttest_ind(wet_psd, dry_psd))\n",
    "alpha = 0.05\n",
    "if ttest_ind(wet_psd, dry_psd).pvalue < alpha:\n",
    "    print(\"Reject null hypothesis\")\n",
    "else:\n",
    "    print(\"Accept null hypothesis\")"
   ]
  },
  {
   "cell_type": "markdown",
   "metadata": {},
   "source": [
    "Higher alpha peak observed for resting vs listening"
   ]
  },
  {
   "cell_type": "code",
   "execution_count": null,
   "metadata": {},
   "outputs": [],
   "source": []
  }
 ],
 "metadata": {
  "kernelspec": {
   "display_name": "brain_env",
   "language": "python",
   "name": "python3"
  },
  "language_info": {
   "codemirror_mode": {
    "name": "ipython",
    "version": 3
   },
   "file_extension": ".py",
   "mimetype": "text/x-python",
   "name": "python",
   "nbconvert_exporter": "python",
   "pygments_lexer": "ipython3",
   "version": "3.9.18"
  }
 },
 "nbformat": 4,
 "nbformat_minor": 2
}
